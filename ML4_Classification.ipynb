{
  "nbformat": 4,
  "nbformat_minor": 0,
  "metadata": {
    "colab": {
      "name": "ML4_Classification.ipynb",
      "provenance": [],
      "collapsed_sections": [],
      "authorship_tag": "ABX9TyPAUUE628R4q2jRuIN1FUmQ",
      "include_colab_link": true
    },
    "kernelspec": {
      "name": "python3",
      "display_name": "Python 3"
    },
    "language_info": {
      "name": "python"
    }
  },
  "cells": [
    {
      "cell_type": "markdown",
      "metadata": {
        "id": "view-in-github",
        "colab_type": "text"
      },
      "source": [
        "<a href=\"https://colab.research.google.com/github/crakcode/ML-Guide/blob/main/ML4_Classification.ipynb\" target=\"_parent\"><img src=\"https://colab.research.google.com/assets/colab-badge.svg\" alt=\"Open In Colab\"/></a>"
      ]
    },
    {
      "cell_type": "markdown",
      "metadata": {
        "id": "oN9SXL7r57SX"
      },
      "source": [
        "# 분류\n",
        "\n",
        "\n",
        "- 분류의 개요\n",
        "명시적 답이 주어진 상태에서 알고리즘으로 학습해 모델을 생성하고\n",
        "이 모델을 통해 미지의 lable 값을 예측하는것이다. \n",
        "\n",
        "  - "
      ]
    }
  ]
}